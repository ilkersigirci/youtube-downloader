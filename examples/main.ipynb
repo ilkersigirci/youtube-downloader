{
 "cells": [
  {
   "cell_type": "code",
   "execution_count": 1,
   "metadata": {},
   "outputs": [],
   "source": [
    "%load_ext autoreload\n",
    "%autoreload 2"
   ]
  },
  {
   "attachments": {},
   "cell_type": "markdown",
   "metadata": {},
   "source": [
    "# Ytdl-sub cmd Test\n"
   ]
  },
  {
   "cell_type": "code",
   "execution_count": null,
   "metadata": {
    "vscode": {
     "languageId": "shellscript"
    }
   },
   "outputs": [],
   "source": [
    "%%sh\n",
    "CONFIG_DIR=/home/ilker/Documents/MyRepos/youtube-downloader/configs\n",
    "ytdl-sub --dry-run --config $CONFIG_DIR/original_config.yaml sub $CONFIG_DIR/subscriptions.yaml"
   ]
  },
  {
   "cell_type": "code",
   "execution_count": null,
   "metadata": {
    "vscode": {
     "languageId": "shellscript"
    }
   },
   "outputs": [],
   "source": [
    "%%sh\n",
    "CONFIG_DIR=/home/ilker/Documents/MyRepos/youtube-downloader/configs\n",
    "ytdl-sub --config $CONFIG_DIR/original_config.yaml sub $CONFIG_DIR/subscriptions.yaml"
   ]
  },
  {
   "cell_type": "code",
   "execution_count": 4,
   "metadata": {
    "vscode": {
     "languageId": "shellscript"
    }
   },
   "outputs": [],
   "source": [
    "%%sh\n",
    "yt-dlp https://www.youtube.com/watch?v=fZUluo9vUNw -j"
   ]
  },
  {
   "attachments": {},
   "cell_type": "markdown",
   "metadata": {},
   "source": [
    "# Yt-dlp Metadata Test\n"
   ]
  },
  {
   "cell_type": "code",
   "execution_count": 2,
   "metadata": {},
   "outputs": [
    {
     "data": {
      "text/plain": [
       "'https://www.youtube.com/watch?v=SUelbSa-OkA'"
      ]
     },
     "execution_count": 2,
     "metadata": {},
     "output_type": "execute_result"
    }
   ],
   "source": [
    "from youtube_downloader.utils import (\n",
    "    extract_youtube_id_from_url,\n",
    "    get_url_from_youtube_id,\n",
    "    get_video_info,\n",
    ")\n",
    "\n",
    "url = \"https://www.youtube.com/watch?v=SUelbSa-OkA&list=LL&index=12&t=420s\"\n",
    "youtube_id = extract_youtube_id_from_url(url)\n",
    "constructed_url = get_url_from_youtube_id(youtube_id)\n",
    "constructed_url"
   ]
  },
  {
   "cell_type": "code",
   "execution_count": null,
   "metadata": {},
   "outputs": [],
   "source": [
    "get_video_info(id=youtube_id)"
   ]
  },
  {
   "cell_type": "code",
   "execution_count": 8,
   "metadata": {},
   "outputs": [
    {
     "name": "stdout",
     "output_type": "stream",
     "text": [
      "[youtube] Extracting URL: https://www.youtube.com/watch?v=Suelbsa-Oka\n",
      "[youtube] Suelbsa-Oka: Downloading webpage\n",
      "[youtube] Suelbsa-Oka: Downloading android player API JSON\n"
     ]
    },
    {
     "name": "stderr",
     "output_type": "stream",
     "text": [
      "ERROR: [youtube] Suelbsa-Oka: Video unavailable\n"
     ]
    },
    {
     "name": "stdout",
     "output_type": "stream",
     "text": [
      "ERROR: [youtube] Suelbsa-Oka: Video unavailable\n"
     ]
    },
    {
     "ename": "TypeError",
     "evalue": "'NoneType' object is not subscriptable",
     "output_type": "error",
     "traceback": [
      "\u001b[0;31m---------------------------------------------------------------------------\u001b[0m",
      "\u001b[0;31mTypeError\u001b[0m                                 Traceback (most recent call last)",
      "Cell \u001b[0;32mIn[8], line 4\u001b[0m\n\u001b[1;32m      1\u001b[0m \u001b[39mfrom\u001b[39;00m \u001b[39myoutube_downloader\u001b[39;00m\u001b[39m.\u001b[39;00m\u001b[39mmodels\u001b[39;00m \u001b[39mimport\u001b[39;00m Item\n\u001b[1;32m      3\u001b[0m item \u001b[39m=\u001b[39m Item(\u001b[39mid\u001b[39m\u001b[39m=\u001b[39myoutube_id)\n\u001b[0;32m----> 4\u001b[0m item\u001b[39m.\u001b[39;49minfo\n",
      "File \u001b[0;32m~/Documents/MyRepos/youtube-downloader/youtube_downloader/models.py:56\u001b[0m, in \u001b[0;36mItem.info\u001b[0;34m(self)\u001b[0m\n\u001b[1;32m     51\u001b[0m \u001b[39m@property\u001b[39m\n\u001b[1;32m     52\u001b[0m \u001b[39mdef\u001b[39;00m \u001b[39minfo\u001b[39m(\u001b[39mself\u001b[39m) \u001b[39m-\u001b[39m\u001b[39m>\u001b[39m VideoInfo:\n\u001b[1;32m     53\u001b[0m     result_json \u001b[39m=\u001b[39m get_video_info(\u001b[39mid\u001b[39m\u001b[39m=\u001b[39m\u001b[39mself\u001b[39m\u001b[39m.\u001b[39mid)\n\u001b[1;32m     55\u001b[0m     \u001b[39mreturn\u001b[39;00m VideoInfo(\n\u001b[0;32m---> 56\u001b[0m         \u001b[39mid\u001b[39m\u001b[39m=\u001b[39mresult_json[\u001b[39m\"\u001b[39;49m\u001b[39mid\u001b[39;49m\u001b[39m\"\u001b[39;49m],\n\u001b[1;32m     57\u001b[0m         title\u001b[39m=\u001b[39mresult_json[\u001b[39m\"\u001b[39m\u001b[39mtitle\u001b[39m\u001b[39m\"\u001b[39m],\n\u001b[1;32m     58\u001b[0m         thumbnail\u001b[39m=\u001b[39mresult_json[\u001b[39m\"\u001b[39m\u001b[39mthumbnail\u001b[39m\u001b[39m\"\u001b[39m],\n\u001b[1;32m     59\u001b[0m         description\u001b[39m=\u001b[39mresult_json[\u001b[39m\"\u001b[39m\u001b[39mdescription\u001b[39m\u001b[39m\"\u001b[39m],\n\u001b[1;32m     60\u001b[0m         formats\u001b[39m=\u001b[39mresult_json[\u001b[39m\"\u001b[39m\u001b[39mformats\u001b[39m\u001b[39m\"\u001b[39m],\n\u001b[1;32m     61\u001b[0m         ext\u001b[39m=\u001b[39mresult_json[\u001b[39m\"\u001b[39m\u001b[39mext\u001b[39m\u001b[39m\"\u001b[39m],\n\u001b[1;32m     62\u001b[0m     )\n",
      "\u001b[0;31mTypeError\u001b[0m: 'NoneType' object is not subscriptable"
     ]
    }
   ],
   "source": [
    "from youtube_downloader.models import Item\n",
    "\n",
    "item = Item(id=youtube_id)\n",
    "item.info"
   ]
  },
  {
   "attachments": {},
   "cell_type": "markdown",
   "metadata": {},
   "source": [
    "# Backend Test\n"
   ]
  },
  {
   "cell_type": "code",
   "execution_count": 9,
   "metadata": {},
   "outputs": [
    {
     "name": "stdout",
     "output_type": "stream",
     "text": [
      "Dummy api index\n"
     ]
    }
   ],
   "source": [
    "import requests\n",
    "\n",
    "print(requests.get(\"http://127.0.0.1:5000/\").json())"
   ]
  },
  {
   "cell_type": "code",
   "execution_count": 10,
   "metadata": {},
   "outputs": [
    {
     "name": "stdout",
     "output_type": "stream",
     "text": [
      "{'id': 'SORiTsvnU28', 'category': 'uncategorized'}\n"
     ]
    }
   ],
   "source": [
    "print(requests.get(\"http://127.0.0.1:5000/items/1\").json())"
   ]
  },
  {
   "cell_type": "code",
   "execution_count": null,
   "metadata": {},
   "outputs": [],
   "source": []
  }
 ],
 "metadata": {
  "kernelspec": {
   "display_name": ".venv",
   "language": "python",
   "name": "python3"
  },
  "language_info": {
   "codemirror_mode": {
    "name": "ipython",
    "version": 3
   },
   "file_extension": ".py",
   "mimetype": "text/x-python",
   "name": "python",
   "nbconvert_exporter": "python",
   "pygments_lexer": "ipython3",
   "version": "3.10.11"
  },
  "orig_nbformat": 4
 },
 "nbformat": 4,
 "nbformat_minor": 2
}
