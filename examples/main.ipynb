{
 "cells": [
  {
   "cell_type": "code",
   "execution_count": 1,
   "metadata": {},
   "outputs": [],
   "source": [
    "%load_ext autoreload\n",
    "%autoreload 2"
   ]
  },
  {
   "attachments": {},
   "cell_type": "markdown",
   "metadata": {},
   "source": [
    "# Ytdl-sub cmd Test\n"
   ]
  },
  {
   "attachments": {},
   "cell_type": "markdown",
   "metadata": {},
   "source": [
    "## Sub Command\n"
   ]
  },
  {
   "cell_type": "code",
   "execution_count": null,
   "metadata": {
    "vscode": {
     "languageId": "shellscript"
    }
   },
   "outputs": [],
   "source": [
    "%%sh\n",
    "CONFIG_DIR=/home/ilker/Documents/MyRepos/youtube-downloader/configs\n",
    "ytdl-sub --dry-run --config $CONFIG_DIR/original_config.yaml sub $CONFIG_DIR/subscriptions.yaml"
   ]
  },
  {
   "cell_type": "code",
   "execution_count": null,
   "metadata": {
    "vscode": {
     "languageId": "shellscript"
    }
   },
   "outputs": [],
   "source": [
    "%%sh\n",
    "CONFIG_DIR=/home/ilker/Documents/MyRepos/youtube-downloader/configs\n",
    "ytdl-sub --config $CONFIG_DIR/original_config.yaml sub $CONFIG_DIR/subscriptions.yaml"
   ]
  },
  {
   "attachments": {},
   "cell_type": "markdown",
   "metadata": {},
   "source": [
    "## DL Command\n"
   ]
  },
  {
   "cell_type": "code",
   "execution_count": 12,
   "metadata": {
    "vscode": {
     "languageId": "shellscript"
    }
   },
   "outputs": [
    {
     "name": "stdout",
     "output_type": "stream",
     "text": [
      "[ytdl-sub] Beginning CLI dry run\n",
      "[ytdl-sub:downloader] Beginning downloads for https://www.youtube.com/watch?v=dQw4w9WgXcQ\n",
      "[ytdl-sub:downloader] Downloading entry 1/1: Rick Astley - Never Gonna Give You Up (Official Music Video)\n",
      "[ytdl-sub] Transaction log for cli-dl-390cde4a:\n",
      "Files created:\n",
      "----------------------------------------\n",
      "/home/ilker/Documents/MyRepos/youtube-downloader/outputs/Rick Astley\n",
      "  2009-10-25.Rick Astley - Never Gonna Give You Up (Official Music Video).jpg\n",
      "  2009-10-25.Rick Astley - Never Gonna Give You Up (Official Music Video).webm\n",
      "[ytdl-sub] Download Summary:\n",
      "cli-dl-390cde4a     \u001b[32m+1\u001b[39m \u001b[39m0\u001b[39m \u001b[39m0\u001b[39m     1 \u001b[32msuccess\u001b[39m\n"
     ]
    }
   ],
   "source": [
    "%%sh\n",
    "CONFIG_DIR=/home/ilker/Documents/MyRepos/youtube-downloader/configs\n",
    "ytdl-sub --dry-run --config $CONFIG_DIR/config.yaml dl --preset \"yt_video\" --download.url \"https://www.youtube.com/watch?v=dQw4w9WgXcQ\""
   ]
  },
  {
   "attachments": {},
   "cell_type": "markdown",
   "metadata": {},
   "source": [
    "## With Aliases\n"
   ]
  },
  {
   "cell_type": "code",
   "execution_count": 31,
   "metadata": {
    "vscode": {
     "languageId": "shellscript"
    }
   },
   "outputs": [
    {
     "name": "stdout",
     "output_type": "stream",
     "text": [
      "[ytdl-sub] Beginning CLI dry run\n",
      "[ytdl-sub:downloader] Beginning downloads for https://www.youtube.com/watch?v=dQw4w9WgXcQ\n",
      "[ytdl-sub:downloader] Downloading entry 1/1: Rick Astley - Never Gonna Give You Up (Official Music Video)\n",
      "[ytdl-sub] Transaction log for cli-dl-15a49a13:\n",
      "Files created:\n",
      "----------------------------------------\n",
      "/home/ilker/Documents/MyRepos/youtube-downloader/outputs/Music Video/Season 2009\n",
      "  s2009e1025.Rick Astley - Never Gonna Give You Up (Official Music Video)-thumb.jpg\n",
      "  s2009e1025.Rick Astley - Never Gonna Give You Up (Official Music Video).nfo\n",
      "    NFO tags:\n",
      "      episodedetails:\n",
      "        aired: 2009-10-25\n",
      "        episode: 1025\n",
      "        season: 2009\n",
      "        title: Rick Astley - Never Gonna Give You Up (Official Music Video)\n",
      "        year: 2009\n",
      "  s2009e1025.Rick Astley - Never Gonna Give You Up (Official Music Video).webm\n",
      "/home/ilker/Documents/MyRepos/youtube-downloader/outputs/Music Video\n",
      "  tvshow.nfo\n",
      "    NFO tags:\n",
      "      tvshow:\n",
      "        title: Music Video\n",
      "[ytdl-sub] Download Summary:\n",
      "cli-dl-15a49a13     \u001b[32m+1\u001b[39m \u001b[39m0\u001b[39m \u001b[39m0\u001b[39m     1 \u001b[32msuccess\u001b[39m\n"
     ]
    }
   ],
   "source": [
    "%%sh\n",
    "CONFIG_DIR=/home/ilker/Documents/MyRepos/youtube-downloader/configs\n",
    "ytdl-sub --dry-run --config $CONFIG_DIR/config.yaml dl --single-music-video \"https://www.youtube.com/watch?v=dQw4w9WgXcQ\""
   ]
  },
  {
   "cell_type": "code",
   "execution_count": null,
   "metadata": {
    "vscode": {
     "languageId": "shellscript"
    }
   },
   "outputs": [],
   "source": [
    "%%sh\n",
    "# FIXME: Custom config path alias is not working\n",
    "ytdl-sub --dry-run --custom-config dl --single-music-video \"https://www.youtube.com/watch?v=dQw4w9WgXcQ\""
   ]
  },
  {
   "attachments": {},
   "cell_type": "markdown",
   "metadata": {},
   "source": [
    "# Yt-dlp Metadata Test\n"
   ]
  },
  {
   "cell_type": "code",
   "execution_count": 2,
   "metadata": {},
   "outputs": [
    {
     "data": {
      "text/plain": [
       "'https://www.youtube.com/watch?v=SUelbSa-OkA'"
      ]
     },
     "execution_count": 2,
     "metadata": {},
     "output_type": "execute_result"
    }
   ],
   "source": [
    "from youtube_downloader.utils import (\n",
    "    extract_youtube_id_from_url,\n",
    "    get_url_from_youtube_id,\n",
    "    get_video_info,\n",
    ")\n",
    "\n",
    "url = \"https://www.youtube.com/watch?v=SUelbSa-OkA&list=LL&index=12&t=420s\"\n",
    "youtube_id = extract_youtube_id_from_url(url)\n",
    "constructed_url = get_url_from_youtube_id(youtube_id)\n",
    "constructed_url"
   ]
  },
  {
   "cell_type": "code",
   "execution_count": null,
   "metadata": {},
   "outputs": [],
   "source": [
    "get_video_info(id=youtube_id)"
   ]
  },
  {
   "cell_type": "code",
   "execution_count": 4,
   "metadata": {},
   "outputs": [
    {
     "name": "stdout",
     "output_type": "stream",
     "text": [
      "[youtube] Extracting URL: https://www.youtube.com/watch?v=SUelbSa-OkA\n",
      "[youtube] SUelbSa-OkA: Downloading webpage\n",
      "[youtube] SUelbSa-OkA: Downloading android player API JSON\n"
     ]
    },
    {
     "data": {
      "text/plain": [
       "VideoInfo(id='SUelbSa-OkA', title='LIFE BEYOND:  Chapter 1. Alien life, deep time, and our place in cosmic history (4K)', formats=[], thumbnail='https://i.ytimg.com/vi/SUelbSa-OkA/maxresdefault.jpg', description=\"Get the soundtrack: https://bit.ly/345n0nf\\nSupport this project on Patreon: http://patreon.com/melodysheep  |  The biggest question of our time. Are we alone? Chapter 1 of this experience takes you to alien worlds and distant places in time and space, in search of where alien life might be hiding and what our place is within the history of life.  After generations of wondering, the truth is finally within our reach.  New research and technologies have brought us closer than ever to an answer - only a few decades in the eyes of some NASA scientists.\\n\\nThe search has led to new discoveries that will blow your mind wide open and give a profound new perspective on human life. The deeper we look, the deeper we see into nature's imagination, and the more we learn about ourselves.  I hope stewing on these thoughts tickles your brain as deeply as it does mine. \\n\\nIn upcoming chapters of Life Beyond we will explore making contact with intelligent life, the potential physics of alien biology, how to survive the end of the universe, and more.  Follow and support my creative journey on Patreon: http://patreon.com/melodysheep\\n\\nBig thanks to Protocol Labs for their support of this creation: https://protocol.ai/  \\n\\nAnd to my friend Julius Horsthuis for the far future civilization visuals near the end.  Check out his amazing work:  https://www.youtube.com/watch?v=AMS32ddNscQ \\n\\nYou can also support me by signing up for a Proton mail account - they provide awesome email and VPN services. ProtonVPN: https://proton.go2cloud.org/SH4Q ProtonMail: https://proton.go2cloud.org/SH4R \\n\\nI wanted to follow up Timelapse of the Future with a more optimistic perspective of human life and our place in the history of the universe. We really do live in a privileged moment and we have a remarkable opportunity to shape the future. Finding alien life will contextualize our own existence, and open our eyes to what else nature has dreamt up beyond our ourselves, potentially bestowing huge breakthroughs in science, technology, and philosophy.  \\n\\nConcept, music & visuals by Melodysheep\\nFeaturing the voices of Douglas Rain, David Christian, Michelle Thaller, Orson Welles, Andrew Siemion, Dan Werthimer, Avi Loeb, Ellen Stofan, and Lawrence Krauss.\\n\\nAdditional visuals by Julius Horsthuis, Konstantin Kovalenko, NASA, Evolve\\n\\nThanks to: Juan Benet, Julius Horsthuis, Konstantin Kovalenko, Avi Loeb, and to my Patreon Supporters:\\n\\nJohn Maier (maierux.com), Ali Akin Kurnaz, Alina Sigaeva, Amal Isaac, Anastasiia Kliakhina, Antoine C, Bhisham Mahtani, Brandon Sanders, Bryan Sands, Calcifer, Case K., Chris Becker, Colin, Cozza38, Crystal, Danaos Christopoulos, Daniel Hudson, Dave LeCompte, Dave & Debbie Boswell, David Minguez, Derick Yan, Diego Camacho, Eico Neumann, Ezri Dax, Gaetan Marras, Geekiskhan, Giulia Carrozzino, Hakon A. Hjortland, Heribert Breidsamer, Holly Boswell, Jeremy Kerwin, Jimpy, Jorge Ruz, JoursterL, Julio, Kalexan, Kody Cotterill, Laine Boswell, Lars Støttrup Nielsen, Laura, Leo Botinelly, Leonard van Vilet, lloll887, Markus Oinonen, Matthew Jacoby, Matthew Ullrich, Maxime Marois, Michael Li, Michelle Wilcox, Mike Norkus, Mitchel Mattera, Nathan Paskett, Nathanial Dre Barinestein, Nicholas Martin, Nina Barton, Patrick, Preston Maness, Radu Chichi, Radu Turcan, Randall, redruMKO, Richard Williams, Robbie Casenta, Robin Kuenkel, Rodrigo Sambade Saá, Sandra, Sean Tham, Sebastien Descy, Silas Rech, Stefan Stettner, Tessa Haagenson, The Cleaner, Timothy E Plum, Virtual_271, Yannic, ZAB, Zann. \\n\\nStay tuned for more chapters of LIFE BEYOND and more experiences like this.  Peace and love,\\n\\nMelodysheep\\n\\nMelodysheep.com\\nInsta: @melodysheep_\\nTwitter: @musicalscience\\n\\nVoice Sources\\n\\nNational Film Board: Universe https://www.youtube.com/watch?v=48gIN4hGOdI\\nDavid Christian TED Talk https://www.youtube.com/watch?v=yqc9zX04DXs\\nDan Werthimer TEDx Talk https://www.youtube.com/watch?v=CmtEWBz_2kE\\nAndrew Siemion: Beyond the Singularity https://www.youtube.com/watch?v=jJMBwqhD9DE\\nOrson Welles: Who’s Out There https://www.youtube.com/watch?v=CPkg_sJn2rU\\nAvi Loeb: The Case for Cosmic Modesty https://www.youtube.com/watch?v=PeHdqpTr170\\nMichelle Thaller in how the Universe Works https://www.youtube.com/watch?v=VymuQC0o7yQ\\nLawrence Krauss: Life, the Universe, and Nothing: A Cosmic Mystery Story https://www.youtube.com/watch?v=LQL2qiPsHSQ\\n\\nMobile Version coming soon\\n\\nHelp us caption & translate this video!\\n\\nhttps://amara.org/v/CYkHc/\", ext='webm')"
      ]
     },
     "execution_count": 4,
     "metadata": {},
     "output_type": "execute_result"
    }
   ],
   "source": [
    "from youtube_downloader.models import Item\n",
    "\n",
    "item = Item(id=youtube_id)\n",
    "item.info"
   ]
  },
  {
   "attachments": {},
   "cell_type": "markdown",
   "metadata": {},
   "source": [
    "# Backend Test\n"
   ]
  },
  {
   "cell_type": "code",
   "execution_count": 4,
   "metadata": {},
   "outputs": [
    {
     "name": "stdout",
     "output_type": "stream",
     "text": [
      "Dummy api index\n"
     ]
    }
   ],
   "source": [
    "import requests\n",
    "\n",
    "print(requests.get(\"http://127.0.0.1:5000/\").json())"
   ]
  },
  {
   "cell_type": "code",
   "execution_count": 6,
   "metadata": {},
   "outputs": [
    {
     "name": "stdout",
     "output_type": "stream",
     "text": [
      "{'id': 'gKraNoiZC9w', 'info': {'id': 'gKraNoiZC9w', 'title': 'YARİM DERDİNİ VER BANA - Aylin Demir & Salih Gündoğdu #elapro', 'thumbnail': 'https://i.ytimg.com/vi_webp/gKraNoiZC9w/maxresdefault.webp', 'description': \"Söz-Müzik: Anonim\\nVideo: Elapro\\nYapımcı Yönetmen: Kaan Gökgöz\\nKurgu Yönetmeni: Kenan Erten\\nÇekim Ekibi: Mehmet Acar, Kenan Erten, Salim Koç, Tarık Güler\\nMix&Mastering: Görkem Gürlevik\\n\\nBizi Instagram'da takip edin: \\n\\nhttps://www.instagram.com/elaprosahne\\nhttps://www.instagram.com/elapromusic\\nhttps://www.instagram.com/elapromedia\\nhttps://www.instagram.com/kaangokgoz\\n\\nEser Sözleri\\nYarim derdini ver bana\\nDermanın olayım senin\\nBülbül gibi cemaline\\nAşığın olayım senin\\n\\nYakma beni yandırma beni\\nAşk elinden kandır beni\\nSarhoşum ayıktır beni\\nMestanın olayım senin\\n\\nCan kuşunu sana uçur\\nAşk elinden bade içir\\nHırka ile şaldan geçir\\nÜryanın olayım senin\\n\\nSeyfullah der benim hoca\\nKendinden ayırmam nice\\nGahi gündüz gahi gece\\nMihmanın olayım senin\\n\\nBize üye olmak ister misiniz?https://www.youtube.com/channel/UCpHlvQ5HoyDgRPAxjUpNZvg/join\\n\\nElapro MEDIA: https://www.youtube.com/ElaproMEDIAtv\\nElapro FACES: https://www.youtube.com/ElaproFACES\", 'ext': 'webm'}, 'category': 'uncategorized'}\n"
     ]
    }
   ],
   "source": [
    "print(requests.get(\"http://localhost:5000/items/gKraNoiZC9w\").json())"
   ]
  }
 ],
 "metadata": {
  "kernelspec": {
   "display_name": ".venv",
   "language": "python",
   "name": "python3"
  },
  "language_info": {
   "codemirror_mode": {
    "name": "ipython",
    "version": 3
   },
   "file_extension": ".py",
   "mimetype": "text/x-python",
   "name": "python",
   "nbconvert_exporter": "python",
   "pygments_lexer": "ipython3",
   "version": "3.10.11"
  },
  "orig_nbformat": 4
 },
 "nbformat": 4,
 "nbformat_minor": 2
}
